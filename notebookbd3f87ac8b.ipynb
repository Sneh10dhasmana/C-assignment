{
  "metadata": {
    "kernelspec": {
      "language": "python",
      "display_name": "Python 3",
      "name": "python3"
    },
    "language_info": {
      "pygments_lexer": "ipython3",
      "nbconvert_exporter": "python",
      "version": "3.6.4",
      "file_extension": ".py",
      "codemirror_mode": {
        "name": "ipython",
        "version": 3
      },
      "name": "python",
      "mimetype": "text/x-python"
    },
    "kaggle": {
      "accelerator": "none",
      "dataSources": [
        {
          "sourceId": 2639,
          "sourceType": "datasetVersion",
          "datasetId": 1474
        }
      ],
      "dockerImageVersionId": 30260,
      "isInternetEnabled": false,
      "language": "python",
      "sourceType": "notebook",
      "isGpuEnabled": false
    },
    "colab": {
      "provenance": []
    }
  },
  "nbformat_minor": 0,
  "nbformat": 4,
  "cells": [
    {
      "cell_type": "code",
      "source": [
        "# This Python 3 environment comes with many helpful analytics libraries installed\n",
        "# It is defined by the kaggle/python Docker image: https://github.com/kaggle/docker-python\n",
        "# For example, here's several helpful packages to load\n",
        "\n",
        "import numpy as np # linear algebra\n",
        "import pandas as pd # data processing, CSV file I/O (e.g. pd.read_csv)\n",
        "\n",
        "# Input data files are available in the read-only \"../input/\" directory\n",
        "# For example, running this (by clicking run or pressing Shift+Enter) will list all files under the input directory\n",
        "\n",
        "import os\n",
        "for dirname, _, filenames in os.walk('/kaggle/input'):\n",
        "    for filename in filenames:\n",
        "        print(os.path.join(dirname, filename))\n",
        "\n",
        "# You can write up to 20GB to the current directory (/kaggle/working/) that gets preserved as output when you create a version using \"Save & Run All\"\n",
        "# You can also write temporary files to /kaggle/temp/, but they won't be saved outside of the current session"
      ],
      "metadata": {
        "_uuid": "8f2839f25d086af736a60e9eeb907d3b93b6e0e5",
        "_cell_guid": "b1076dfc-b9ad-4769-8c92-a6c4dae69d19",
        "execution": {
          "iopub.status.busy": "2022-10-07T07:43:07.065027Z",
          "iopub.execute_input": "2022-10-07T07:43:07.065433Z",
          "iopub.status.idle": "2022-10-07T07:43:07.080238Z",
          "shell.execute_reply.started": "2022-10-07T07:43:07.065401Z",
          "shell.execute_reply": "2022-10-07T07:43:07.079007Z"
        },
        "trusted": true,
        "id": "3BD2nmDC2mN0"
      },
      "execution_count": null,
      "outputs": []
    },
    {
      "cell_type": "markdown",
      "source": [
        "# Youtube Video Link : https://youtu.be/Asm2_qgBK48"
      ],
      "metadata": {
        "id": "ZwFadk6j2mN3"
      }
    },
    {
      "cell_type": "code",
      "source": [
        "import warnings\n",
        "warnings.filterwarnings('ignore')"
      ],
      "metadata": {
        "execution": {
          "iopub.status.busy": "2022-10-07T07:43:08.280139Z",
          "iopub.execute_input": "2022-10-07T07:43:08.280923Z",
          "iopub.status.idle": "2022-10-07T07:43:08.285949Z",
          "shell.execute_reply.started": "2022-10-07T07:43:08.280885Z",
          "shell.execute_reply": "2022-10-07T07:43:08.284696Z"
        },
        "trusted": true,
        "id": "X-KGuHkF2mN6"
      },
      "execution_count": null,
      "outputs": []
    },
    {
      "cell_type": "code",
      "source": [
        "data = pd.read_csv('/kaggle/input/imdb-data/IMDB-Movie-Data.csv')"
      ],
      "metadata": {
        "execution": {
          "iopub.status.busy": "2022-10-07T07:43:08.545263Z",
          "iopub.execute_input": "2022-10-07T07:43:08.54596Z",
          "iopub.status.idle": "2022-10-07T07:43:08.583629Z",
          "shell.execute_reply.started": "2022-10-07T07:43:08.545924Z",
          "shell.execute_reply": "2022-10-07T07:43:08.582348Z"
        },
        "trusted": true,
        "id": "IzEGCyNW2mN7"
      },
      "execution_count": null,
      "outputs": []
    },
    {
      "cell_type": "markdown",
      "source": [
        "# 1. Display Top 10 Rows of The Dataset"
      ],
      "metadata": {
        "execution": {
          "iopub.status.busy": "2022-10-07T05:28:53.866112Z",
          "iopub.execute_input": "2022-10-07T05:28:53.867396Z",
          "iopub.status.idle": "2022-10-07T05:28:53.897473Z",
          "shell.execute_reply.started": "2022-10-07T05:28:53.867351Z",
          "shell.execute_reply": "2022-10-07T05:28:53.896329Z"
        },
        "id": "wVkjUE4U2mN8"
      }
    },
    {
      "cell_type": "code",
      "source": [
        "data.head(10)"
      ],
      "metadata": {
        "execution": {
          "iopub.status.busy": "2022-10-07T07:43:08.97141Z",
          "iopub.execute_input": "2022-10-07T07:43:08.972091Z",
          "iopub.status.idle": "2022-10-07T07:43:09.011251Z",
          "shell.execute_reply.started": "2022-10-07T07:43:08.972053Z",
          "shell.execute_reply": "2022-10-07T07:43:09.009867Z"
        },
        "trusted": true,
        "id": "lDnRVuvR2mN9"
      },
      "execution_count": null,
      "outputs": []
    },
    {
      "cell_type": "markdown",
      "source": [
        "# 2. Check Last 10 Rows of The Dataset"
      ],
      "metadata": {
        "id": "IQVSF8yR2mN9"
      }
    },
    {
      "cell_type": "code",
      "source": [
        "data.tail(10)"
      ],
      "metadata": {
        "execution": {
          "iopub.status.busy": "2022-10-07T07:43:09.386202Z",
          "iopub.execute_input": "2022-10-07T07:43:09.386594Z",
          "iopub.status.idle": "2022-10-07T07:43:09.410216Z",
          "shell.execute_reply.started": "2022-10-07T07:43:09.386565Z",
          "shell.execute_reply": "2022-10-07T07:43:09.409117Z"
        },
        "trusted": true,
        "id": "reNuMNGX2mN9"
      },
      "execution_count": null,
      "outputs": []
    },
    {
      "cell_type": "markdown",
      "source": [
        "# 3. Find Shape of Our Dataset (Number of Rows And Number of Columns)"
      ],
      "metadata": {
        "execution": {
          "iopub.status.busy": "2022-10-07T05:32:37.224157Z",
          "iopub.execute_input": "2022-10-07T05:32:37.22467Z",
          "iopub.status.idle": "2022-10-07T05:32:37.230098Z",
          "shell.execute_reply.started": "2022-10-07T05:32:37.224616Z",
          "shell.execute_reply": "2022-10-07T05:32:37.2287Z"
        },
        "id": "bR1lmyWo2mN-"
      }
    },
    {
      "cell_type": "code",
      "source": [
        "data.shape"
      ],
      "metadata": {
        "execution": {
          "iopub.status.busy": "2022-10-07T07:43:09.772209Z",
          "iopub.execute_input": "2022-10-07T07:43:09.773128Z",
          "iopub.status.idle": "2022-10-07T07:43:09.780447Z",
          "shell.execute_reply.started": "2022-10-07T07:43:09.773087Z",
          "shell.execute_reply": "2022-10-07T07:43:09.779039Z"
        },
        "trusted": true,
        "id": "FdnSlgs42mN-"
      },
      "execution_count": null,
      "outputs": []
    },
    {
      "cell_type": "code",
      "source": [
        "print('Number of Rows',data.shape[0])\n",
        "print('Number of Columns',data.shape[1])"
      ],
      "metadata": {
        "execution": {
          "iopub.status.busy": "2022-10-07T07:43:09.965106Z",
          "iopub.execute_input": "2022-10-07T07:43:09.965581Z",
          "iopub.status.idle": "2022-10-07T07:43:09.972557Z",
          "shell.execute_reply.started": "2022-10-07T07:43:09.965543Z",
          "shell.execute_reply": "2022-10-07T07:43:09.970959Z"
        },
        "trusted": true,
        "id": "ihiBa1Xc2mN-"
      },
      "execution_count": null,
      "outputs": []
    },
    {
      "cell_type": "markdown",
      "source": [
        "# 4. Getting Information About Our Dataset Like Total Number Rows, Total Number of Columns, Datatypes of Each Column And Memory Requirement"
      ],
      "metadata": {
        "id": "MijfBgFh2mN_"
      }
    },
    {
      "cell_type": "code",
      "source": [
        "data.info()"
      ],
      "metadata": {
        "execution": {
          "iopub.status.busy": "2022-10-07T07:43:10.383636Z",
          "iopub.execute_input": "2022-10-07T07:43:10.384175Z",
          "iopub.status.idle": "2022-10-07T07:43:10.418753Z",
          "shell.execute_reply.started": "2022-10-07T07:43:10.384137Z",
          "shell.execute_reply": "2022-10-07T07:43:10.416854Z"
        },
        "trusted": true,
        "id": "a4eVCFBA2mN_"
      },
      "execution_count": null,
      "outputs": []
    },
    {
      "cell_type": "markdown",
      "source": [
        "# 5. Check Null Values In The Dataset"
      ],
      "metadata": {
        "id": "BfL0wLeU2mN_"
      }
    },
    {
      "cell_type": "code",
      "source": [
        "data.isnull().sum()"
      ],
      "metadata": {
        "execution": {
          "iopub.status.busy": "2022-10-07T07:43:10.802322Z",
          "iopub.execute_input": "2022-10-07T07:43:10.803582Z",
          "iopub.status.idle": "2022-10-07T07:43:10.815534Z",
          "shell.execute_reply.started": "2022-10-07T07:43:10.803536Z",
          "shell.execute_reply": "2022-10-07T07:43:10.814186Z"
        },
        "trusted": true,
        "id": "wEQM-Iln2mN_"
      },
      "execution_count": null,
      "outputs": []
    },
    {
      "cell_type": "code",
      "source": [
        "import matplotlib.pyplot as plt\n",
        "import seaborn as sns\n",
        "sns.heatmap(data.isnull())\n",
        "plt.show()"
      ],
      "metadata": {
        "execution": {
          "iopub.status.busy": "2022-10-07T07:43:10.984354Z",
          "iopub.execute_input": "2022-10-07T07:43:10.984805Z",
          "iopub.status.idle": "2022-10-07T07:43:12.195991Z",
          "shell.execute_reply.started": "2022-10-07T07:43:10.984753Z",
          "shell.execute_reply": "2022-10-07T07:43:12.193509Z"
        },
        "trusted": true,
        "id": "vpcPBrjR2mOA"
      },
      "execution_count": null,
      "outputs": []
    },
    {
      "cell_type": "markdown",
      "source": [
        "# 6. Drop All The Missing Values"
      ],
      "metadata": {
        "id": "1UsYvPxr2mOA"
      }
    },
    {
      "cell_type": "code",
      "source": [
        "data = data.dropna(axis=0)"
      ],
      "metadata": {
        "execution": {
          "iopub.status.busy": "2022-10-07T07:43:12.19876Z",
          "iopub.execute_input": "2022-10-07T07:43:12.199306Z",
          "iopub.status.idle": "2022-10-07T07:43:12.213065Z",
          "shell.execute_reply.started": "2022-10-07T07:43:12.199255Z",
          "shell.execute_reply": "2022-10-07T07:43:12.211257Z"
        },
        "trusted": true,
        "id": "0--IXCe52mOA"
      },
      "execution_count": null,
      "outputs": []
    },
    {
      "cell_type": "code",
      "source": [
        "sns.heatmap(data.isnull())\n",
        "plt.show()"
      ],
      "metadata": {
        "execution": {
          "iopub.status.busy": "2022-10-07T07:43:12.215002Z",
          "iopub.execute_input": "2022-10-07T07:43:12.215409Z",
          "iopub.status.idle": "2022-10-07T07:43:12.689039Z",
          "shell.execute_reply.started": "2022-10-07T07:43:12.215375Z",
          "shell.execute_reply": "2022-10-07T07:43:12.687569Z"
        },
        "trusted": true,
        "id": "JHRMKK032mOA"
      },
      "execution_count": null,
      "outputs": []
    },
    {
      "cell_type": "markdown",
      "source": [
        "# 7. Check For Duplicate Data"
      ],
      "metadata": {
        "id": "PKzFNESZ2mOB"
      }
    },
    {
      "cell_type": "code",
      "source": [
        "dup_data=data.duplicated().any()\n",
        "print(\"Are there any duplicated values in data?\",dup_data)"
      ],
      "metadata": {
        "execution": {
          "iopub.status.busy": "2022-10-07T07:43:12.692364Z",
          "iopub.execute_input": "2022-10-07T07:43:12.692968Z",
          "iopub.status.idle": "2022-10-07T07:43:12.710813Z",
          "shell.execute_reply.started": "2022-10-07T07:43:12.692908Z",
          "shell.execute_reply": "2022-10-07T07:43:12.709094Z"
        },
        "trusted": true,
        "id": "7VN-w_VO2mOB"
      },
      "execution_count": null,
      "outputs": []
    },
    {
      "cell_type": "markdown",
      "source": [
        "# 8. Get Overall Statistics About The DataFrame"
      ],
      "metadata": {
        "id": "AzRDdnBD2mOB"
      }
    },
    {
      "cell_type": "code",
      "source": [
        "data.describe()"
      ],
      "metadata": {
        "execution": {
          "iopub.status.busy": "2022-10-07T07:43:12.71343Z",
          "iopub.execute_input": "2022-10-07T07:43:12.713991Z",
          "iopub.status.idle": "2022-10-07T07:43:12.759699Z",
          "shell.execute_reply.started": "2022-10-07T07:43:12.713939Z",
          "shell.execute_reply": "2022-10-07T07:43:12.757815Z"
        },
        "trusted": true,
        "id": "5ucSwMlC2mOB"
      },
      "execution_count": null,
      "outputs": []
    },
    {
      "cell_type": "markdown",
      "source": [
        "# 9. Display Title of The Movie Having Runtime >= 180 Minutes"
      ],
      "metadata": {
        "id": "sBfR94mg2mOB"
      }
    },
    {
      "cell_type": "code",
      "source": [
        "data[data['Runtime (Minutes)']>=180]['Title']"
      ],
      "metadata": {
        "execution": {
          "iopub.status.busy": "2022-10-07T07:43:12.782021Z",
          "iopub.execute_input": "2022-10-07T07:43:12.782515Z",
          "iopub.status.idle": "2022-10-07T07:43:12.793056Z",
          "shell.execute_reply.started": "2022-10-07T07:43:12.78248Z",
          "shell.execute_reply": "2022-10-07T07:43:12.791896Z"
        },
        "trusted": true,
        "id": "j8uzGZ6L2mOC"
      },
      "execution_count": null,
      "outputs": []
    },
    {
      "cell_type": "markdown",
      "source": [
        "# 10. In Which Year There Was The Highest Voting?"
      ],
      "metadata": {
        "id": "C0ETJzQs2mOC"
      }
    },
    {
      "cell_type": "code",
      "source": [
        "sns.barplot(x='Year',y='Votes',data=data)\n",
        "plt.title(\"Votes By Year\")\n",
        "plt.show()"
      ],
      "metadata": {
        "execution": {
          "iopub.status.busy": "2022-10-07T07:43:13.155086Z",
          "iopub.execute_input": "2022-10-07T07:43:13.155563Z",
          "iopub.status.idle": "2022-10-07T07:43:13.689262Z",
          "shell.execute_reply.started": "2022-10-07T07:43:13.155525Z",
          "shell.execute_reply": "2022-10-07T07:43:13.687505Z"
        },
        "trusted": true,
        "id": "3ctEZJBZ2mOC"
      },
      "execution_count": null,
      "outputs": []
    },
    {
      "cell_type": "markdown",
      "source": [
        "# 11. In Which Year There Was The Highest Revenue?"
      ],
      "metadata": {
        "id": "uxTU-gnc2mOC"
      }
    },
    {
      "cell_type": "code",
      "source": [
        "sns.barplot(x='Year',y='Revenue (Millions)',data=data)\n",
        "plt.title(\"Revenue By Year\")\n",
        "plt.show()"
      ],
      "metadata": {
        "execution": {
          "iopub.status.busy": "2022-10-07T07:43:13.691429Z",
          "iopub.execute_input": "2022-10-07T07:43:13.691856Z",
          "iopub.status.idle": "2022-10-07T07:43:14.221061Z",
          "shell.execute_reply.started": "2022-10-07T07:43:13.691823Z",
          "shell.execute_reply": "2022-10-07T07:43:14.219548Z"
        },
        "trusted": true,
        "id": "JcAK56T02mOC"
      },
      "execution_count": null,
      "outputs": []
    },
    {
      "cell_type": "markdown",
      "source": [
        "# 12. Find The Average Rating For Each Director"
      ],
      "metadata": {
        "id": "w0D7-fMa2mOC"
      }
    },
    {
      "cell_type": "code",
      "source": [
        "data.groupby('Director')['Rating'].mean().sort_values(ascending=False)"
      ],
      "metadata": {
        "execution": {
          "iopub.status.busy": "2022-10-07T07:43:14.225439Z",
          "iopub.execute_input": "2022-10-07T07:43:14.225926Z",
          "iopub.status.idle": "2022-10-07T07:43:14.244843Z",
          "shell.execute_reply.started": "2022-10-07T07:43:14.225888Z",
          "shell.execute_reply": "2022-10-07T07:43:14.243065Z"
        },
        "trusted": true,
        "id": "BDf8ahFb2mOD"
      },
      "execution_count": null,
      "outputs": []
    },
    {
      "cell_type": "markdown",
      "source": [
        "# 13. Display Top 10 Lengthy Movies Title"
      ],
      "metadata": {
        "id": "VVhOeKXG2mOD"
      }
    },
    {
      "cell_type": "code",
      "source": [
        "le =data.nlargest(10,'Runtime (Minutes)')[['Title','Runtime (Minutes)']]. \\\n",
        "set_index('Title')"
      ],
      "metadata": {
        "execution": {
          "iopub.status.busy": "2022-10-07T07:43:14.459852Z",
          "iopub.execute_input": "2022-10-07T07:43:14.460271Z",
          "iopub.status.idle": "2022-10-07T07:43:14.471158Z",
          "shell.execute_reply.started": "2022-10-07T07:43:14.460237Z",
          "shell.execute_reply": "2022-10-07T07:43:14.469579Z"
        },
        "trusted": true,
        "id": "iFPP__4I2mOD"
      },
      "execution_count": null,
      "outputs": []
    },
    {
      "cell_type": "code",
      "source": [
        "sns.barplot(le['Runtime (Minutes)'],y=le.index)\n",
        "plt.title('Top 5 Lengtly Movies')\n",
        "plt.show()"
      ],
      "metadata": {
        "execution": {
          "iopub.status.busy": "2022-10-07T07:43:14.694395Z",
          "iopub.execute_input": "2022-10-07T07:43:14.694855Z",
          "iopub.status.idle": "2022-10-07T07:43:14.982481Z",
          "shell.execute_reply.started": "2022-10-07T07:43:14.694809Z",
          "shell.execute_reply": "2022-10-07T07:43:14.981373Z"
        },
        "trusted": true,
        "id": "7jyqqm8a2mOD"
      },
      "execution_count": null,
      "outputs": []
    },
    {
      "cell_type": "markdown",
      "source": [
        "# 14. Display Number of Movies Per Year"
      ],
      "metadata": {
        "id": "2U1mp6UR2mOE"
      }
    },
    {
      "cell_type": "code",
      "source": [
        "sns.countplot(x='Year',data=data)\n",
        "plt.title(\"Number of Movies Per Year\")"
      ],
      "metadata": {
        "execution": {
          "iopub.status.busy": "2022-10-07T07:43:15.14703Z",
          "iopub.execute_input": "2022-10-07T07:43:15.147632Z",
          "iopub.status.idle": "2022-10-07T07:43:15.445278Z",
          "shell.execute_reply.started": "2022-10-07T07:43:15.147588Z",
          "shell.execute_reply": "2022-10-07T07:43:15.443895Z"
        },
        "trusted": true,
        "id": "IBtpeof62mOE"
      },
      "execution_count": null,
      "outputs": []
    },
    {
      "cell_type": "markdown",
      "source": [
        "# 15. Find Most Popular Movie Title (Higest Revenue)"
      ],
      "metadata": {
        "id": "ectZgEYH2mOE"
      }
    },
    {
      "cell_type": "code",
      "source": [
        "data.columns"
      ],
      "metadata": {
        "execution": {
          "iopub.status.busy": "2022-10-07T07:43:15.592804Z",
          "iopub.execute_input": "2022-10-07T07:43:15.593279Z",
          "iopub.status.idle": "2022-10-07T07:43:15.604182Z",
          "shell.execute_reply.started": "2022-10-07T07:43:15.593242Z",
          "shell.execute_reply": "2022-10-07T07:43:15.602328Z"
        },
        "trusted": true,
        "id": "7TIsgIgo2mOE"
      },
      "execution_count": null,
      "outputs": []
    },
    {
      "cell_type": "code",
      "source": [
        "data[data['Revenue (Millions)'].max() == data['Revenue (Millions)']]['Title']"
      ],
      "metadata": {
        "execution": {
          "iopub.status.busy": "2022-10-07T07:43:54.142574Z",
          "iopub.execute_input": "2022-10-07T07:43:54.144174Z",
          "iopub.status.idle": "2022-10-07T07:43:54.15589Z",
          "shell.execute_reply.started": "2022-10-07T07:43:54.144118Z",
          "shell.execute_reply": "2022-10-07T07:43:54.154567Z"
        },
        "trusted": true,
        "id": "VnMAzw9I2mOE"
      },
      "execution_count": null,
      "outputs": []
    },
    {
      "cell_type": "markdown",
      "source": [
        "# 16. Display Top 10 Highest Rated Movie Titles And its Directors"
      ],
      "metadata": {
        "id": "u-8mXXR72mOG"
      }
    },
    {
      "cell_type": "code",
      "source": [
        "top_10=data.nlargest(10,'Rating')[['Title','Rating','Director']].set_index('Title')"
      ],
      "metadata": {
        "execution": {
          "iopub.status.busy": "2022-10-07T07:44:20.756029Z",
          "iopub.execute_input": "2022-10-07T07:44:20.75652Z",
          "iopub.status.idle": "2022-10-07T07:44:20.769115Z",
          "shell.execute_reply.started": "2022-10-07T07:44:20.756482Z",
          "shell.execute_reply": "2022-10-07T07:44:20.767107Z"
        },
        "trusted": true,
        "id": "X3JmACqv2mOG"
      },
      "execution_count": null,
      "outputs": []
    },
    {
      "cell_type": "code",
      "source": [
        "top_10"
      ],
      "metadata": {
        "execution": {
          "iopub.status.busy": "2022-10-07T07:44:24.991907Z",
          "iopub.execute_input": "2022-10-07T07:44:24.992403Z",
          "iopub.status.idle": "2022-10-07T07:44:25.006332Z",
          "shell.execute_reply.started": "2022-10-07T07:44:24.992363Z",
          "shell.execute_reply": "2022-10-07T07:44:25.005072Z"
        },
        "trusted": true,
        "id": "oOALU9Xb2mOH"
      },
      "execution_count": null,
      "outputs": []
    },
    {
      "cell_type": "code",
      "source": [
        "sns.barplot(top_10['Rating'],top_10.index)\n",
        "plt.title(\"Display Top 10 Highest Rated Movie Titles\")"
      ],
      "metadata": {
        "execution": {
          "iopub.status.busy": "2022-10-07T07:47:29.485389Z",
          "iopub.execute_input": "2022-10-07T07:47:29.485961Z",
          "iopub.status.idle": "2022-10-07T07:47:29.770291Z",
          "shell.execute_reply.started": "2022-10-07T07:47:29.485921Z",
          "shell.execute_reply": "2022-10-07T07:47:29.768998Z"
        },
        "trusted": true,
        "id": "e8OaduAn2mOH"
      },
      "execution_count": null,
      "outputs": []
    },
    {
      "cell_type": "markdown",
      "source": [
        "# 17. Display Top 10 Highest Revenue Movie Titles"
      ],
      "metadata": {
        "id": "lftmfbz42mOH"
      }
    },
    {
      "cell_type": "code",
      "source": [
        "data.columns"
      ],
      "metadata": {
        "execution": {
          "iopub.status.busy": "2022-10-07T07:47:58.466404Z",
          "iopub.execute_input": "2022-10-07T07:47:58.466846Z",
          "iopub.status.idle": "2022-10-07T07:47:58.475546Z",
          "shell.execute_reply.started": "2022-10-07T07:47:58.466813Z",
          "shell.execute_reply": "2022-10-07T07:47:58.47355Z"
        },
        "trusted": true,
        "id": "ejjutm7v2mOH"
      },
      "execution_count": null,
      "outputs": []
    },
    {
      "cell_type": "code",
      "source": [
        "data.sort_values(by='Revenue (Millions)',ascending=False).head(10)"
      ],
      "metadata": {
        "execution": {
          "iopub.status.busy": "2022-10-07T07:48:04.579088Z",
          "iopub.execute_input": "2022-10-07T07:48:04.579617Z",
          "iopub.status.idle": "2022-10-07T07:48:04.6059Z",
          "shell.execute_reply.started": "2022-10-07T07:48:04.579576Z",
          "shell.execute_reply": "2022-10-07T07:48:04.604344Z"
        },
        "trusted": true,
        "id": "DQ5Wpfhs2mOI"
      },
      "execution_count": null,
      "outputs": []
    },
    {
      "cell_type": "code",
      "source": [
        "top_10 = data.nlargest(10,'Revenue (Millions)')[['Title','Director','Revenue (Millions)']].set_index('Title')"
      ],
      "metadata": {
        "execution": {
          "iopub.status.busy": "2022-10-07T07:48:15.758015Z",
          "iopub.execute_input": "2022-10-07T07:48:15.758462Z",
          "iopub.status.idle": "2022-10-07T07:48:15.771041Z",
          "shell.execute_reply.started": "2022-10-07T07:48:15.758428Z",
          "shell.execute_reply": "2022-10-07T07:48:15.769383Z"
        },
        "trusted": true,
        "id": "law-3Rjz2mOI"
      },
      "execution_count": null,
      "outputs": []
    },
    {
      "cell_type": "code",
      "source": [
        "sns.barplot(top_10['Revenue (Millions)'],top_10.index)\n",
        "plt.title(\"Display Top 10 Highest Revenue Movie Titles\")\n",
        "plt.show()"
      ],
      "metadata": {
        "execution": {
          "iopub.status.busy": "2022-10-07T07:48:21.948173Z",
          "iopub.execute_input": "2022-10-07T07:48:21.948665Z",
          "iopub.status.idle": "2022-10-07T07:48:22.215979Z",
          "shell.execute_reply.started": "2022-10-07T07:48:21.948629Z",
          "shell.execute_reply": "2022-10-07T07:48:22.214341Z"
        },
        "trusted": true,
        "id": "OAP91KcG2mOI"
      },
      "execution_count": null,
      "outputs": []
    },
    {
      "cell_type": "markdown",
      "source": [
        "# 18.  Find Average Rating of Movies Year-wise"
      ],
      "metadata": {
        "id": "qY6-mmPq2mOI"
      }
    },
    {
      "cell_type": "code",
      "source": [
        "data.columns"
      ],
      "metadata": {
        "execution": {
          "iopub.status.busy": "2022-10-07T07:50:24.983586Z",
          "iopub.execute_input": "2022-10-07T07:50:24.985212Z",
          "iopub.status.idle": "2022-10-07T07:50:24.994743Z",
          "shell.execute_reply.started": "2022-10-07T07:50:24.985163Z",
          "shell.execute_reply": "2022-10-07T07:50:24.993243Z"
        },
        "trusted": true,
        "id": "yAtnZeo02mOJ"
      },
      "execution_count": null,
      "outputs": []
    },
    {
      "cell_type": "code",
      "source": [
        "data1=data.groupby('Year')['Year','Rating'].mean().\\\n",
        "sort_values(by='Rating',ascending=False).set_index('Year')"
      ],
      "metadata": {
        "execution": {
          "iopub.status.busy": "2022-10-07T07:50:34.649936Z",
          "iopub.execute_input": "2022-10-07T07:50:34.650312Z",
          "iopub.status.idle": "2022-10-07T07:50:34.666949Z",
          "shell.execute_reply.started": "2022-10-07T07:50:34.650283Z",
          "shell.execute_reply": "2022-10-07T07:50:34.665469Z"
        },
        "trusted": true,
        "id": "7MtKAcOt2mOJ"
      },
      "execution_count": null,
      "outputs": []
    },
    {
      "cell_type": "code",
      "source": [
        "data1"
      ],
      "metadata": {
        "execution": {
          "iopub.status.busy": "2022-10-07T07:50:42.206022Z",
          "iopub.execute_input": "2022-10-07T07:50:42.206518Z",
          "iopub.status.idle": "2022-10-07T07:50:42.221141Z",
          "shell.execute_reply.started": "2022-10-07T07:50:42.206476Z",
          "shell.execute_reply": "2022-10-07T07:50:42.219454Z"
        },
        "trusted": true,
        "id": "ihV0rHMv2mOJ"
      },
      "execution_count": null,
      "outputs": []
    },
    {
      "cell_type": "code",
      "source": [
        "plt.figure(figsize=(10,5))\n",
        "sns.barplot(data1.index,data1['Rating'])\n",
        "plt.show()"
      ],
      "metadata": {
        "execution": {
          "iopub.status.busy": "2022-10-07T07:56:13.053386Z",
          "iopub.execute_input": "2022-10-07T07:56:13.053935Z",
          "iopub.status.idle": "2022-10-07T07:56:13.332583Z",
          "shell.execute_reply.started": "2022-10-07T07:56:13.053892Z",
          "shell.execute_reply": "2022-10-07T07:56:13.33081Z"
        },
        "trusted": true,
        "id": "hkuUfXPz2mOJ"
      },
      "execution_count": null,
      "outputs": []
    },
    {
      "cell_type": "markdown",
      "source": [
        "# 19. Does Rating Affect The Revenue?"
      ],
      "metadata": {
        "id": "jNr3jmSf2mOK"
      }
    },
    {
      "cell_type": "code",
      "source": [
        "sns.scatterplot(x='Rating',y='Revenue (Millions)',data=data)"
      ],
      "metadata": {
        "execution": {
          "iopub.status.busy": "2022-10-07T08:02:54.773564Z",
          "iopub.execute_input": "2022-10-07T08:02:54.774832Z",
          "iopub.status.idle": "2022-10-07T08:02:54.990111Z",
          "shell.execute_reply.started": "2022-10-07T08:02:54.774761Z",
          "shell.execute_reply": "2022-10-07T08:02:54.988664Z"
        },
        "trusted": true,
        "id": "Wjf_RpWm2mOK"
      },
      "execution_count": null,
      "outputs": []
    },
    {
      "cell_type": "markdown",
      "source": [
        "# Answer : Yes"
      ],
      "metadata": {
        "execution": {
          "iopub.status.busy": "2022-10-07T08:03:20.504347Z",
          "iopub.execute_input": "2022-10-07T08:03:20.504935Z",
          "iopub.status.idle": "2022-10-07T08:03:20.562599Z",
          "shell.execute_reply.started": "2022-10-07T08:03:20.504898Z",
          "shell.execute_reply": "2022-10-07T08:03:20.560512Z"
        },
        "id": "sTZAx6KY2mOK"
      }
    },
    {
      "cell_type": "markdown",
      "source": [
        "# 20. Classify Movies Based on Ratings [Good,Better and Best]"
      ],
      "metadata": {
        "id": "BVBjRbkE2mOK"
      }
    },
    {
      "cell_type": "code",
      "source": [
        "data.columns"
      ],
      "metadata": {
        "execution": {
          "iopub.status.busy": "2022-10-07T08:04:15.559477Z",
          "iopub.execute_input": "2022-10-07T08:04:15.560182Z",
          "iopub.status.idle": "2022-10-07T08:04:15.570724Z",
          "shell.execute_reply.started": "2022-10-07T08:04:15.560122Z",
          "shell.execute_reply": "2022-10-07T08:04:15.56931Z"
        },
        "trusted": true,
        "id": "PU33Mvid2mOL"
      },
      "execution_count": null,
      "outputs": []
    },
    {
      "cell_type": "code",
      "source": [
        "def rating(rating):\n",
        "    if rating>=7.0:\n",
        "        return 'Excellent'\n",
        "    elif rating>=6.0:\n",
        "        return 'Good'\n",
        "    else:\n",
        "        return 'Average'"
      ],
      "metadata": {
        "execution": {
          "iopub.status.busy": "2022-10-07T08:04:40.534622Z",
          "iopub.execute_input": "2022-10-07T08:04:40.535833Z",
          "iopub.status.idle": "2022-10-07T08:04:40.542749Z",
          "shell.execute_reply.started": "2022-10-07T08:04:40.535761Z",
          "shell.execute_reply": "2022-10-07T08:04:40.541212Z"
        },
        "trusted": true,
        "id": "ObDPxURR2mOL"
      },
      "execution_count": null,
      "outputs": []
    },
    {
      "cell_type": "code",
      "source": [
        "data['rating_cat']=data['Rating'].apply(rating)"
      ],
      "metadata": {
        "execution": {
          "iopub.status.busy": "2022-10-07T08:04:46.527082Z",
          "iopub.execute_input": "2022-10-07T08:04:46.527732Z",
          "iopub.status.idle": "2022-10-07T08:04:46.535542Z",
          "shell.execute_reply.started": "2022-10-07T08:04:46.527694Z",
          "shell.execute_reply": "2022-10-07T08:04:46.533924Z"
        },
        "trusted": true,
        "id": "2Jp_D9-w2mOL"
      },
      "execution_count": null,
      "outputs": []
    },
    {
      "cell_type": "code",
      "source": [
        "data.head(1)"
      ],
      "metadata": {
        "execution": {
          "iopub.status.busy": "2022-10-07T08:04:52.619701Z",
          "iopub.execute_input": "2022-10-07T08:04:52.62047Z",
          "iopub.status.idle": "2022-10-07T08:04:52.643487Z",
          "shell.execute_reply.started": "2022-10-07T08:04:52.620423Z",
          "shell.execute_reply": "2022-10-07T08:04:52.642461Z"
        },
        "trusted": true,
        "id": "59IOFKbA2mOM"
      },
      "execution_count": null,
      "outputs": []
    },
    {
      "cell_type": "markdown",
      "source": [
        "# 21. Count Number of Action Movies"
      ],
      "metadata": {
        "id": "y0nqdz262mOM"
      }
    },
    {
      "cell_type": "code",
      "source": [
        "list1=[]\n",
        "for value in data['Genre']:\n",
        "    list1.append(value.split(','))"
      ],
      "metadata": {
        "execution": {
          "iopub.status.busy": "2022-10-07T08:05:27.981906Z",
          "iopub.execute_input": "2022-10-07T08:05:27.982431Z",
          "iopub.status.idle": "2022-10-07T08:05:27.989954Z",
          "shell.execute_reply.started": "2022-10-07T08:05:27.98239Z",
          "shell.execute_reply": "2022-10-07T08:05:27.988725Z"
        },
        "trusted": true,
        "id": "8HNOTYkC2mOM"
      },
      "execution_count": null,
      "outputs": []
    },
    {
      "cell_type": "code",
      "source": [
        "data['temp']=list1"
      ],
      "metadata": {
        "execution": {
          "iopub.status.busy": "2022-10-07T08:05:33.841197Z",
          "iopub.execute_input": "2022-10-07T08:05:33.84164Z",
          "iopub.status.idle": "2022-10-07T08:05:33.849647Z",
          "shell.execute_reply.started": "2022-10-07T08:05:33.841606Z",
          "shell.execute_reply": "2022-10-07T08:05:33.848249Z"
        },
        "trusted": true,
        "id": "vpXIuqFn2mOM"
      },
      "execution_count": null,
      "outputs": []
    },
    {
      "cell_type": "code",
      "source": [
        "genre=input(\"Enter Genre you want to count : \").title()\n",
        "count=0\n",
        "for value in data['temp']:\n",
        "    if genre in value:\n",
        "        count=count+1\n",
        "print(\"Total Count is\",count)"
      ],
      "metadata": {
        "execution": {
          "iopub.status.busy": "2022-10-07T08:05:41.69947Z",
          "iopub.execute_input": "2022-10-07T08:05:41.699981Z",
          "iopub.status.idle": "2022-10-07T08:05:59.811213Z",
          "shell.execute_reply.started": "2022-10-07T08:05:41.699943Z",
          "shell.execute_reply": "2022-10-07T08:05:59.810135Z"
        },
        "trusted": true,
        "id": "elemg88C2mON"
      },
      "execution_count": null,
      "outputs": []
    },
    {
      "cell_type": "markdown",
      "source": [
        "# OR"
      ],
      "metadata": {
        "id": "6OJT9hWW2mON"
      }
    },
    {
      "cell_type": "code",
      "source": [
        "len(data[data['Genre'].str.contains('action',case=False)])"
      ],
      "metadata": {
        "execution": {
          "iopub.status.busy": "2022-10-07T08:06:23.98736Z",
          "iopub.execute_input": "2022-10-07T08:06:23.987806Z",
          "iopub.status.idle": "2022-10-07T08:06:24.000377Z",
          "shell.execute_reply.started": "2022-10-07T08:06:23.987745Z",
          "shell.execute_reply": "2022-10-07T08:06:23.999005Z"
        },
        "trusted": true,
        "id": "JOMyDUeR2mON"
      },
      "execution_count": null,
      "outputs": []
    },
    {
      "cell_type": "code",
      "source": [],
      "metadata": {
        "id": "mubDwIex2mON"
      },
      "execution_count": null,
      "outputs": []
    }
  ]
}